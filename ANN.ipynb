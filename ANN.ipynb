{
  "nbformat": 4,
  "nbformat_minor": 0,
  "metadata": {
    "colab": {
      "name": "ANN.ipynb",
      "provenance": [],
      "toc_visible": true,
      "mount_file_id": "1xJQNJzjEJXy1v0jL79lnQnNnLOK_sY1M",
      "authorship_tag": "ABX9TyMHd72LJCmJp8e2sw+mBD8i",
      "include_colab_link": true
    },
    "kernelspec": {
      "name": "python3",
      "display_name": "Python 3"
    },
    "accelerator": "GPU"
  },
  "cells": [
    {
      "cell_type": "markdown",
      "metadata": {
        "id": "view-in-github",
        "colab_type": "text"
      },
      "source": [
        "<a href=\"https://colab.research.google.com/github/aninda1994/Deep_learning/blob/master/ANN.ipynb\" target=\"_parent\"><img src=\"https://colab.research.google.com/assets/colab-badge.svg\" alt=\"Open In Colab\"/></a>"
      ]
    },
    {
      "cell_type": "code",
      "metadata": {
        "id": "hWLnPYlsbGRd",
        "colab_type": "code",
        "colab": {
          "base_uri": "https://localhost:8080/",
          "height": 35
        },
        "outputId": "366cae3a-f81a-4c6d-f593-6e139bf8936c"
      },
      "source": [
        "import tensorflow as tf\n",
        "tf.test.gpu_device_name()"
      ],
      "execution_count": null,
      "outputs": [
        {
          "output_type": "execute_result",
          "data": {
            "application/vnd.google.colaboratory.intrinsic+json": {
              "type": "string"
            },
            "text/plain": [
              "'/device:GPU:0'"
            ]
          },
          "metadata": {
            "tags": []
          },
          "execution_count": 1
        }
      ]
    },
    {
      "cell_type": "code",
      "metadata": {
        "id": "pMwgr7mDcXYx",
        "colab_type": "code",
        "colab": {
          "base_uri": "https://localhost:8080/",
          "height": 496
        },
        "outputId": "81a58a16-a462-4746-b453-7968adb455f9"
      },
      "source": [
        "from tensorflow.python.client import device_lib\n",
        "device_lib.list_local_devices()"
      ],
      "execution_count": null,
      "outputs": [
        {
          "output_type": "execute_result",
          "data": {
            "text/plain": [
              "[name: \"/device:CPU:0\"\n",
              " device_type: \"CPU\"\n",
              " memory_limit: 268435456\n",
              " locality {\n",
              " }\n",
              " incarnation: 15003946678288929624, name: \"/device:XLA_CPU:0\"\n",
              " device_type: \"XLA_CPU\"\n",
              " memory_limit: 17179869184\n",
              " locality {\n",
              " }\n",
              " incarnation: 9348548051962759376\n",
              " physical_device_desc: \"device: XLA_CPU device\", name: \"/device:XLA_GPU:0\"\n",
              " device_type: \"XLA_GPU\"\n",
              " memory_limit: 17179869184\n",
              " locality {\n",
              " }\n",
              " incarnation: 643682914803600115\n",
              " physical_device_desc: \"device: XLA_GPU device\", name: \"/device:GPU:0\"\n",
              " device_type: \"GPU\"\n",
              " memory_limit: 15701463552\n",
              " locality {\n",
              "   bus_id: 1\n",
              "   links {\n",
              "   }\n",
              " }\n",
              " incarnation: 8108565783940898595\n",
              " physical_device_desc: \"device: 0, name: Tesla P100-PCIE-16GB, pci bus id: 0000:00:04.0, compute capability: 6.0\"]"
            ]
          },
          "metadata": {
            "tags": []
          },
          "execution_count": 2
        }
      ]
    },
    {
      "cell_type": "code",
      "metadata": {
        "id": "eGNbs3Emc3cQ",
        "colab_type": "code",
        "colab": {
          "base_uri": "https://localhost:8080/",
          "height": 816
        },
        "outputId": "182f92a5-e3c8-454d-aca9-de1f58447a02"
      },
      "source": [
        "!cat /proc/meminfo"
      ],
      "execution_count": null,
      "outputs": [
        {
          "output_type": "stream",
          "text": [
            "MemTotal:       13333556 kB\n",
            "MemFree:         9115652 kB\n",
            "MemAvailable:   11845192 kB\n",
            "Buffers:           79472 kB\n",
            "Cached:          2759860 kB\n",
            "SwapCached:            0 kB\n",
            "Active:          1236940 kB\n",
            "Inactive:        2562292 kB\n",
            "Active(anon):     885812 kB\n",
            "Inactive(anon):     8532 kB\n",
            "Active(file):     351128 kB\n",
            "Inactive(file):  2553760 kB\n",
            "Unevictable:           0 kB\n",
            "Mlocked:               0 kB\n",
            "SwapTotal:             0 kB\n",
            "SwapFree:              0 kB\n",
            "Dirty:               460 kB\n",
            "Writeback:             0 kB\n",
            "AnonPages:        959868 kB\n",
            "Mapped:           687240 kB\n",
            "Shmem:              9156 kB\n",
            "Slab:             178208 kB\n",
            "SReclaimable:     131084 kB\n",
            "SUnreclaim:        47124 kB\n",
            "KernelStack:        4696 kB\n",
            "PageTables:         9480 kB\n",
            "NFS_Unstable:          0 kB\n",
            "Bounce:                0 kB\n",
            "WritebackTmp:          0 kB\n",
            "CommitLimit:     6666776 kB\n",
            "Committed_AS:    3640560 kB\n",
            "VmallocTotal:   34359738367 kB\n",
            "VmallocUsed:           0 kB\n",
            "VmallocChunk:          0 kB\n",
            "Percpu:              920 kB\n",
            "AnonHugePages:         0 kB\n",
            "ShmemHugePages:        0 kB\n",
            "ShmemPmdMapped:        0 kB\n",
            "HugePages_Total:       0\n",
            "HugePages_Free:        0\n",
            "HugePages_Rsvd:        0\n",
            "HugePages_Surp:        0\n",
            "Hugepagesize:       2048 kB\n",
            "Hugetlb:               0 kB\n",
            "DirectMap4k:      201916 kB\n",
            "DirectMap2M:     6088704 kB\n",
            "DirectMap1G:     9437184 kB\n"
          ],
          "name": "stdout"
        }
      ]
    },
    {
      "cell_type": "code",
      "metadata": {
        "id": "Kbzav2Fkdpbp",
        "colab_type": "code",
        "colab": {
          "base_uri": "https://localhost:8080/",
          "height": 955
        },
        "outputId": "38a9d164-9d09-45d5-98a7-ecd97c954baf"
      },
      "source": [
        "!cat /proc/cpuinfo"
      ],
      "execution_count": null,
      "outputs": [
        {
          "output_type": "stream",
          "text": [
            "processor\t: 0\n",
            "vendor_id\t: GenuineIntel\n",
            "cpu family\t: 6\n",
            "model\t\t: 79\n",
            "model name\t: Intel(R) Xeon(R) CPU @ 2.20GHz\n",
            "stepping\t: 0\n",
            "microcode\t: 0x1\n",
            "cpu MHz\t\t: 2200.000\n",
            "cache size\t: 56320 KB\n",
            "physical id\t: 0\n",
            "siblings\t: 2\n",
            "core id\t\t: 0\n",
            "cpu cores\t: 1\n",
            "apicid\t\t: 0\n",
            "initial apicid\t: 0\n",
            "fpu\t\t: yes\n",
            "fpu_exception\t: yes\n",
            "cpuid level\t: 13\n",
            "wp\t\t: yes\n",
            "flags\t\t: fpu vme de pse tsc msr pae mce cx8 apic sep mtrr pge mca cmov pat pse36 clflush mmx fxsr sse sse2 ss ht syscall nx pdpe1gb rdtscp lm constant_tsc rep_good nopl xtopology nonstop_tsc cpuid tsc_known_freq pni pclmulqdq ssse3 fma cx16 pcid sse4_1 sse4_2 x2apic movbe popcnt aes xsave avx f16c rdrand hypervisor lahf_lm abm 3dnowprefetch invpcid_single ssbd ibrs ibpb stibp fsgsbase tsc_adjust bmi1 hle avx2 smep bmi2 erms invpcid rtm rdseed adx smap xsaveopt arat md_clear arch_capabilities\n",
            "bugs\t\t: cpu_meltdown spectre_v1 spectre_v2 spec_store_bypass l1tf mds swapgs taa\n",
            "bogomips\t: 4400.00\n",
            "clflush size\t: 64\n",
            "cache_alignment\t: 64\n",
            "address sizes\t: 46 bits physical, 48 bits virtual\n",
            "power management:\n",
            "\n",
            "processor\t: 1\n",
            "vendor_id\t: GenuineIntel\n",
            "cpu family\t: 6\n",
            "model\t\t: 79\n",
            "model name\t: Intel(R) Xeon(R) CPU @ 2.20GHz\n",
            "stepping\t: 0\n",
            "microcode\t: 0x1\n",
            "cpu MHz\t\t: 2200.000\n",
            "cache size\t: 56320 KB\n",
            "physical id\t: 0\n",
            "siblings\t: 2\n",
            "core id\t\t: 0\n",
            "cpu cores\t: 1\n",
            "apicid\t\t: 1\n",
            "initial apicid\t: 1\n",
            "fpu\t\t: yes\n",
            "fpu_exception\t: yes\n",
            "cpuid level\t: 13\n",
            "wp\t\t: yes\n",
            "flags\t\t: fpu vme de pse tsc msr pae mce cx8 apic sep mtrr pge mca cmov pat pse36 clflush mmx fxsr sse sse2 ss ht syscall nx pdpe1gb rdtscp lm constant_tsc rep_good nopl xtopology nonstop_tsc cpuid tsc_known_freq pni pclmulqdq ssse3 fma cx16 pcid sse4_1 sse4_2 x2apic movbe popcnt aes xsave avx f16c rdrand hypervisor lahf_lm abm 3dnowprefetch invpcid_single ssbd ibrs ibpb stibp fsgsbase tsc_adjust bmi1 hle avx2 smep bmi2 erms invpcid rtm rdseed adx smap xsaveopt arat md_clear arch_capabilities\n",
            "bugs\t\t: cpu_meltdown spectre_v1 spectre_v2 spec_store_bypass l1tf mds swapgs taa\n",
            "bogomips\t: 4400.00\n",
            "clflush size\t: 64\n",
            "cache_alignment\t: 64\n",
            "address sizes\t: 46 bits physical, 48 bits virtual\n",
            "power management:\n",
            "\n"
          ],
          "name": "stdout"
        }
      ]
    },
    {
      "cell_type": "code",
      "metadata": {
        "id": "ANbza7j9d0nL",
        "colab_type": "code",
        "colab": {}
      },
      "source": [
        "!pip install -q keras"
      ],
      "execution_count": null,
      "outputs": []
    },
    {
      "cell_type": "code",
      "metadata": {
        "id": "xXYhAB_MffEU",
        "colab_type": "code",
        "colab": {
          "base_uri": "https://localhost:8080/",
          "height": 1000
        },
        "outputId": "f9f27053-87b5-4622-9058-024fd72bd8e2"
      },
      "source": [
        "# Importing the libraries\n",
        "import numpy as np\n",
        "import matplotlib.pyplot as plt\n",
        "import pandas as pd\n",
        "\n",
        "# Importing the dataset\n",
        "dataset = pd.read_csv('/content/drive/My Drive/Colab Notebooks/Churn_Modelling.csv')\n",
        "X = dataset.iloc[:, 3:13]\n",
        "y = dataset.iloc[:, 13]\n",
        "\n",
        "#Create dummy variables\n",
        "geography=pd.get_dummies(X[\"Geography\"],drop_first=True)\n",
        "gender=pd.get_dummies(X['Gender'],drop_first=True)\n",
        "\n",
        "## Concatenate the Data Frames\n",
        "\n",
        "X=pd.concat([X,geography,gender],axis=1)\n",
        "\n",
        "## Drop Unnecessary columns\n",
        "X=X.drop(['Geography','Gender'],axis=1)\n",
        "\n",
        "# Splitting the dataset into the Training set and Test set\n",
        "from sklearn.model_selection import train_test_split\n",
        "X_train, X_test, y_train, y_test = train_test_split(X, y, test_size = 0.2, random_state = 0)\n",
        "\n",
        "# Feature Scaling\n",
        "from sklearn.preprocessing import StandardScaler\n",
        "sc = StandardScaler()\n",
        "X_train = sc.fit_transform(X_train)\n",
        "X_test = sc.transform(X_test)\n",
        "\n",
        "# Part 2 - Now let's make the ANN!\n",
        "\n",
        "# Importing the Keras libraries and packages\n",
        "import keras\n",
        "from keras.models import Sequential\n",
        "from keras.layers import Dense\n",
        "from keras.layers import LeakyReLU,PReLU,ELU\n",
        "from keras.layers import Dropout\n",
        "\n",
        "\n",
        "# Initialising the ANN\n",
        "classifier = Sequential()\n",
        "\n",
        "# Adding the input layer and the first hidden layer\n",
        "classifier.add(Dense(output_dim = 6, init = 'he_uniform',activation='relu',input_dim = 11))\n",
        "\n",
        "# Adding the second hidden layer\n",
        "classifier.add(Dense(output_dim = 6, init = 'he_uniform',activation='relu'))\n",
        "# Adding the output layer\n",
        "classifier.add(Dense(output_dim = 1, init = 'glorot_uniform', activation = 'sigmoid'))\n",
        "\n",
        "# Compiling the ANN\n",
        "classifier.compile(optimizer = 'Adamax', loss = 'binary_crossentropy', metrics = ['acc'])\n",
        "\n",
        "# Fitting the ANN to the Training set\n",
        "model_history=classifier.fit(X_train, y_train,validation_split=0.33, batch_size = 10, nb_epoch = 100)\n",
        "\n",
        "# list all data in history\n",
        "\n",
        "print(model_history.history.keys())\n",
        "# summarize history for accuracy\n",
        "plt.plot(model_history.history['acc'])\n",
        "plt.plot(model_history.history['val_acc'])\n",
        "plt.title('model accuracy')\n",
        "plt.ylabel('accuracy')\n",
        "plt.xlabel('epoch')\n",
        "plt.legend(['train', 'test'], loc='upper left')\n",
        "plt.show()\n",
        "\n",
        "# summarize history for loss\n",
        "plt.plot(model_history.history['loss'])\n",
        "plt.plot(model_history.history['val_loss'])\n",
        "plt.title('model loss')\n",
        "plt.ylabel('loss')\n",
        "plt.xlabel('epoch')\n",
        "plt.legend(['train', 'test'], loc='upper left')\n",
        "plt.show()\n",
        "\n",
        "# Part 3 - Making the predictions and evaluating the model\n",
        "\n",
        "# Predicting the Test set results\n",
        "y_pred = classifier.predict(X_test)\n",
        "y_pred = (y_pred > 0.5)\n",
        "\n",
        "# Making the Confusion Matrix\n",
        "from sklearn.metrics import confusion_matrix\n",
        "cm = confusion_matrix(y_test, y_pred)\n",
        "\n",
        "# Calculate the Accuracy\n",
        "from sklearn.metrics import accuracy_score\n",
        "score=accuracy_score(y_pred,y_test)\n"
      ],
      "execution_count": null,
      "outputs": [
        {
          "output_type": "stream",
          "text": [
            "/usr/local/lib/python3.6/dist-packages/ipykernel_launcher.py:46: UserWarning: Update your `Dense` call to the Keras 2 API: `Dense(activation=\"relu\", input_dim=11, units=6, kernel_initializer=\"he_uniform\")`\n",
            "/usr/local/lib/python3.6/dist-packages/ipykernel_launcher.py:49: UserWarning: Update your `Dense` call to the Keras 2 API: `Dense(activation=\"relu\", units=6, kernel_initializer=\"he_uniform\")`\n",
            "/usr/local/lib/python3.6/dist-packages/ipykernel_launcher.py:51: UserWarning: Update your `Dense` call to the Keras 2 API: `Dense(activation=\"sigmoid\", units=1, kernel_initializer=\"glorot_uniform\")`\n",
            "/usr/local/lib/python3.6/dist-packages/ipykernel_launcher.py:57: UserWarning: The `nb_epoch` argument in `fit` has been renamed `epochs`.\n"
          ],
          "name": "stderr"
        },
        {
          "output_type": "stream",
          "text": [
            "Train on 5359 samples, validate on 2641 samples\n",
            "Epoch 1/100\n",
            "5359/5359 [==============================] - 2s 309us/step - loss: 0.5893 - acc: 0.6968 - val_loss: 0.4897 - val_acc: 0.7955\n",
            "Epoch 2/100\n",
            "5359/5359 [==============================] - 2s 291us/step - loss: 0.4721 - acc: 0.7962 - val_loss: 0.4671 - val_acc: 0.7952\n",
            "Epoch 3/100\n",
            "5359/5359 [==============================] - 2s 288us/step - loss: 0.4523 - acc: 0.7992 - val_loss: 0.4475 - val_acc: 0.8023\n",
            "Epoch 4/100\n",
            "5359/5359 [==============================] - 2s 294us/step - loss: 0.4359 - acc: 0.8089 - val_loss: 0.4337 - val_acc: 0.8133\n",
            "Epoch 5/100\n",
            "5359/5359 [==============================] - 2s 302us/step - loss: 0.4237 - acc: 0.8156 - val_loss: 0.4241 - val_acc: 0.8186\n",
            "Epoch 6/100\n",
            "5359/5359 [==============================] - 2s 301us/step - loss: 0.4139 - acc: 0.8199 - val_loss: 0.4166 - val_acc: 0.8194\n",
            "Epoch 7/100\n",
            "5359/5359 [==============================] - 2s 292us/step - loss: 0.4052 - acc: 0.8244 - val_loss: 0.4103 - val_acc: 0.8190\n",
            "Epoch 8/100\n",
            "5359/5359 [==============================] - 2s 289us/step - loss: 0.3984 - acc: 0.8276 - val_loss: 0.4049 - val_acc: 0.8213\n",
            "Epoch 9/100\n",
            "5359/5359 [==============================] - 2s 301us/step - loss: 0.3925 - acc: 0.8337 - val_loss: 0.4003 - val_acc: 0.8236\n",
            "Epoch 10/100\n",
            "5359/5359 [==============================] - 2s 302us/step - loss: 0.3871 - acc: 0.8350 - val_loss: 0.3955 - val_acc: 0.8285\n",
            "Epoch 11/100\n",
            "5359/5359 [==============================] - 2s 295us/step - loss: 0.3821 - acc: 0.8375 - val_loss: 0.3923 - val_acc: 0.8292\n",
            "Epoch 12/100\n",
            "5359/5359 [==============================] - 2s 298us/step - loss: 0.3777 - acc: 0.8412 - val_loss: 0.3889 - val_acc: 0.8353\n",
            "Epoch 13/100\n",
            "5359/5359 [==============================] - 2s 289us/step - loss: 0.3736 - acc: 0.8433 - val_loss: 0.3857 - val_acc: 0.8349\n",
            "Epoch 14/100\n",
            "5359/5359 [==============================] - 2s 297us/step - loss: 0.3695 - acc: 0.8447 - val_loss: 0.3829 - val_acc: 0.8372\n",
            "Epoch 15/100\n",
            "5359/5359 [==============================] - 2s 295us/step - loss: 0.3663 - acc: 0.8455 - val_loss: 0.3792 - val_acc: 0.8383\n",
            "Epoch 16/100\n",
            "5359/5359 [==============================] - 2s 295us/step - loss: 0.3625 - acc: 0.8489 - val_loss: 0.3785 - val_acc: 0.8398\n",
            "Epoch 17/100\n",
            "5359/5359 [==============================] - 2s 297us/step - loss: 0.3597 - acc: 0.8511 - val_loss: 0.3745 - val_acc: 0.8429\n",
            "Epoch 18/100\n",
            "5359/5359 [==============================] - 2s 294us/step - loss: 0.3566 - acc: 0.8530 - val_loss: 0.3721 - val_acc: 0.8436\n",
            "Epoch 19/100\n",
            "5359/5359 [==============================] - 2s 306us/step - loss: 0.3538 - acc: 0.8530 - val_loss: 0.3711 - val_acc: 0.8417\n",
            "Epoch 20/100\n",
            "5359/5359 [==============================] - 2s 289us/step - loss: 0.3517 - acc: 0.8559 - val_loss: 0.3687 - val_acc: 0.8436\n",
            "Epoch 21/100\n",
            "5359/5359 [==============================] - 2s 286us/step - loss: 0.3497 - acc: 0.8582 - val_loss: 0.3675 - val_acc: 0.8444\n",
            "Epoch 22/100\n",
            "5359/5359 [==============================] - 2s 288us/step - loss: 0.3473 - acc: 0.8556 - val_loss: 0.3667 - val_acc: 0.8470\n",
            "Epoch 23/100\n",
            "5359/5359 [==============================] - 2s 290us/step - loss: 0.3455 - acc: 0.8586 - val_loss: 0.3659 - val_acc: 0.8523\n",
            "Epoch 24/100\n",
            "5359/5359 [==============================] - 2s 287us/step - loss: 0.3439 - acc: 0.8569 - val_loss: 0.3643 - val_acc: 0.8519\n",
            "Epoch 25/100\n",
            "5359/5359 [==============================] - 2s 291us/step - loss: 0.3425 - acc: 0.8614 - val_loss: 0.3628 - val_acc: 0.8535\n",
            "Epoch 26/100\n",
            "5359/5359 [==============================] - 2s 294us/step - loss: 0.3410 - acc: 0.8621 - val_loss: 0.3629 - val_acc: 0.8554\n",
            "Epoch 27/100\n",
            "5359/5359 [==============================] - 2s 295us/step - loss: 0.3402 - acc: 0.8608 - val_loss: 0.3613 - val_acc: 0.8538\n",
            "Epoch 28/100\n",
            "5359/5359 [==============================] - 2s 296us/step - loss: 0.3391 - acc: 0.8602 - val_loss: 0.3610 - val_acc: 0.8565\n",
            "Epoch 29/100\n",
            "5359/5359 [==============================] - 2s 305us/step - loss: 0.3384 - acc: 0.8606 - val_loss: 0.3615 - val_acc: 0.8557\n",
            "Epoch 30/100\n",
            "5359/5359 [==============================] - 2s 296us/step - loss: 0.3374 - acc: 0.8597 - val_loss: 0.3598 - val_acc: 0.8591\n",
            "Epoch 31/100\n",
            "5359/5359 [==============================] - 2s 292us/step - loss: 0.3365 - acc: 0.8604 - val_loss: 0.3588 - val_acc: 0.8538\n",
            "Epoch 32/100\n",
            "5359/5359 [==============================] - 2s 307us/step - loss: 0.3357 - acc: 0.8617 - val_loss: 0.3586 - val_acc: 0.8591\n",
            "Epoch 33/100\n",
            "5359/5359 [==============================] - 2s 312us/step - loss: 0.3354 - acc: 0.8606 - val_loss: 0.3587 - val_acc: 0.8542\n",
            "Epoch 34/100\n",
            "5359/5359 [==============================] - 2s 296us/step - loss: 0.3350 - acc: 0.8621 - val_loss: 0.3588 - val_acc: 0.8591\n",
            "Epoch 35/100\n",
            "5359/5359 [==============================] - 2s 298us/step - loss: 0.3347 - acc: 0.8604 - val_loss: 0.3576 - val_acc: 0.8557\n",
            "Epoch 36/100\n",
            "5359/5359 [==============================] - 2s 297us/step - loss: 0.3342 - acc: 0.8606 - val_loss: 0.3597 - val_acc: 0.8550\n",
            "Epoch 37/100\n",
            "5359/5359 [==============================] - 2s 299us/step - loss: 0.3342 - acc: 0.8621 - val_loss: 0.3580 - val_acc: 0.8557\n",
            "Epoch 38/100\n",
            "5359/5359 [==============================] - 2s 297us/step - loss: 0.3339 - acc: 0.8593 - val_loss: 0.3576 - val_acc: 0.8542\n",
            "Epoch 39/100\n",
            "5359/5359 [==============================] - 2s 290us/step - loss: 0.3333 - acc: 0.8610 - val_loss: 0.3571 - val_acc: 0.8573\n",
            "Epoch 40/100\n",
            "5359/5359 [==============================] - 2s 292us/step - loss: 0.3331 - acc: 0.8608 - val_loss: 0.3566 - val_acc: 0.8591\n",
            "Epoch 41/100\n",
            "5359/5359 [==============================] - 2s 294us/step - loss: 0.3327 - acc: 0.8614 - val_loss: 0.3567 - val_acc: 0.8576\n",
            "Epoch 42/100\n",
            "5359/5359 [==============================] - 2s 282us/step - loss: 0.3329 - acc: 0.8600 - val_loss: 0.3559 - val_acc: 0.8588\n",
            "Epoch 43/100\n",
            "5359/5359 [==============================] - 2s 288us/step - loss: 0.3321 - acc: 0.8610 - val_loss: 0.3567 - val_acc: 0.8573\n",
            "Epoch 44/100\n",
            "5359/5359 [==============================] - 2s 296us/step - loss: 0.3323 - acc: 0.8599 - val_loss: 0.3558 - val_acc: 0.8569\n",
            "Epoch 45/100\n",
            "5359/5359 [==============================] - 2s 292us/step - loss: 0.3321 - acc: 0.8614 - val_loss: 0.3559 - val_acc: 0.8603\n",
            "Epoch 46/100\n",
            "5359/5359 [==============================] - 2s 283us/step - loss: 0.3322 - acc: 0.8628 - val_loss: 0.3567 - val_acc: 0.8573\n",
            "Epoch 47/100\n",
            "5359/5359 [==============================] - 2s 286us/step - loss: 0.3322 - acc: 0.8625 - val_loss: 0.3563 - val_acc: 0.8580\n",
            "Epoch 48/100\n",
            "5359/5359 [==============================] - 2s 286us/step - loss: 0.3316 - acc: 0.8612 - val_loss: 0.3567 - val_acc: 0.8588\n",
            "Epoch 49/100\n",
            "5359/5359 [==============================] - 2s 293us/step - loss: 0.3321 - acc: 0.8627 - val_loss: 0.3565 - val_acc: 0.8565\n",
            "Epoch 50/100\n",
            "5359/5359 [==============================] - 2s 287us/step - loss: 0.3318 - acc: 0.8614 - val_loss: 0.3560 - val_acc: 0.8576\n",
            "Epoch 51/100\n",
            "5359/5359 [==============================] - 2s 287us/step - loss: 0.3318 - acc: 0.8612 - val_loss: 0.3561 - val_acc: 0.8588\n",
            "Epoch 52/100\n",
            "5359/5359 [==============================] - 2s 296us/step - loss: 0.3318 - acc: 0.8606 - val_loss: 0.3562 - val_acc: 0.8588\n",
            "Epoch 53/100\n",
            "5359/5359 [==============================] - 2s 286us/step - loss: 0.3317 - acc: 0.8586 - val_loss: 0.3550 - val_acc: 0.8591\n",
            "Epoch 54/100\n",
            "5359/5359 [==============================] - 2s 287us/step - loss: 0.3317 - acc: 0.8615 - val_loss: 0.3556 - val_acc: 0.8607\n",
            "Epoch 55/100\n",
            "5359/5359 [==============================] - 2s 289us/step - loss: 0.3318 - acc: 0.8599 - val_loss: 0.3558 - val_acc: 0.8599\n",
            "Epoch 56/100\n",
            "5359/5359 [==============================] - 2s 289us/step - loss: 0.3313 - acc: 0.8602 - val_loss: 0.3550 - val_acc: 0.8595\n",
            "Epoch 57/100\n",
            "5359/5359 [==============================] - 2s 284us/step - loss: 0.3311 - acc: 0.8623 - val_loss: 0.3559 - val_acc: 0.8565\n",
            "Epoch 58/100\n",
            "5359/5359 [==============================] - 2s 286us/step - loss: 0.3310 - acc: 0.8632 - val_loss: 0.3552 - val_acc: 0.8573\n",
            "Epoch 59/100\n",
            "5359/5359 [==============================] - 2s 296us/step - loss: 0.3310 - acc: 0.8632 - val_loss: 0.3557 - val_acc: 0.8580\n",
            "Epoch 60/100\n",
            "5359/5359 [==============================] - 2s 284us/step - loss: 0.3312 - acc: 0.8612 - val_loss: 0.3564 - val_acc: 0.8584\n",
            "Epoch 61/100\n",
            "5359/5359 [==============================] - 2s 290us/step - loss: 0.3311 - acc: 0.8614 - val_loss: 0.3557 - val_acc: 0.8588\n",
            "Epoch 62/100\n",
            "5359/5359 [==============================] - 2s 288us/step - loss: 0.3313 - acc: 0.8597 - val_loss: 0.3550 - val_acc: 0.8591\n",
            "Epoch 63/100\n",
            "5359/5359 [==============================] - 2s 302us/step - loss: 0.3312 - acc: 0.8623 - val_loss: 0.3557 - val_acc: 0.8599\n",
            "Epoch 64/100\n",
            "5359/5359 [==============================] - 2s 290us/step - loss: 0.3311 - acc: 0.8600 - val_loss: 0.3558 - val_acc: 0.8573\n",
            "Epoch 65/100\n",
            "5359/5359 [==============================] - 2s 292us/step - loss: 0.3309 - acc: 0.8612 - val_loss: 0.3556 - val_acc: 0.8580\n",
            "Epoch 66/100\n",
            "5359/5359 [==============================] - 2s 289us/step - loss: 0.3309 - acc: 0.8599 - val_loss: 0.3549 - val_acc: 0.8595\n",
            "Epoch 67/100\n",
            "5359/5359 [==============================] - 2s 302us/step - loss: 0.3307 - acc: 0.8612 - val_loss: 0.3562 - val_acc: 0.8591\n",
            "Epoch 68/100\n",
            "5359/5359 [==============================] - 2s 291us/step - loss: 0.3310 - acc: 0.8612 - val_loss: 0.3557 - val_acc: 0.8576\n",
            "Epoch 69/100\n",
            "5359/5359 [==============================] - 2s 284us/step - loss: 0.3303 - acc: 0.8612 - val_loss: 0.3559 - val_acc: 0.8573\n",
            "Epoch 70/100\n",
            "5359/5359 [==============================] - 2s 286us/step - loss: 0.3306 - acc: 0.8602 - val_loss: 0.3563 - val_acc: 0.8588\n",
            "Epoch 71/100\n",
            "5359/5359 [==============================] - 2s 285us/step - loss: 0.3308 - acc: 0.8599 - val_loss: 0.3564 - val_acc: 0.8576\n",
            "Epoch 72/100\n",
            "5359/5359 [==============================] - 2s 287us/step - loss: 0.3306 - acc: 0.8586 - val_loss: 0.3557 - val_acc: 0.8561\n",
            "Epoch 73/100\n",
            "5359/5359 [==============================] - 2s 291us/step - loss: 0.3307 - acc: 0.8610 - val_loss: 0.3561 - val_acc: 0.8565\n",
            "Epoch 74/100\n",
            "5359/5359 [==============================] - 2s 291us/step - loss: 0.3303 - acc: 0.8593 - val_loss: 0.3555 - val_acc: 0.8561\n",
            "Epoch 75/100\n",
            "5359/5359 [==============================] - 2s 284us/step - loss: 0.3301 - acc: 0.8604 - val_loss: 0.3568 - val_acc: 0.8561\n",
            "Epoch 76/100\n",
            "5359/5359 [==============================] - 2s 288us/step - loss: 0.3299 - acc: 0.8612 - val_loss: 0.3558 - val_acc: 0.8584\n",
            "Epoch 77/100\n",
            "5359/5359 [==============================] - 2s 287us/step - loss: 0.3303 - acc: 0.8602 - val_loss: 0.3556 - val_acc: 0.8576\n",
            "Epoch 78/100\n",
            "5359/5359 [==============================] - 2s 291us/step - loss: 0.3303 - acc: 0.8600 - val_loss: 0.3557 - val_acc: 0.8573\n",
            "Epoch 79/100\n",
            "5359/5359 [==============================] - 2s 301us/step - loss: 0.3299 - acc: 0.8602 - val_loss: 0.3563 - val_acc: 0.8576\n",
            "Epoch 80/100\n",
            "5359/5359 [==============================] - 2s 288us/step - loss: 0.3300 - acc: 0.8628 - val_loss: 0.3578 - val_acc: 0.8569\n",
            "Epoch 81/100\n",
            "5359/5359 [==============================] - 2s 286us/step - loss: 0.3301 - acc: 0.8608 - val_loss: 0.3572 - val_acc: 0.8550\n",
            "Epoch 82/100\n",
            "5359/5359 [==============================] - 2s 302us/step - loss: 0.3301 - acc: 0.8602 - val_loss: 0.3566 - val_acc: 0.8569\n",
            "Epoch 83/100\n",
            "5359/5359 [==============================] - 2s 291us/step - loss: 0.3299 - acc: 0.8610 - val_loss: 0.3563 - val_acc: 0.8565\n",
            "Epoch 84/100\n",
            "5359/5359 [==============================] - 2s 294us/step - loss: 0.3297 - acc: 0.8619 - val_loss: 0.3558 - val_acc: 0.8569\n",
            "Epoch 85/100\n",
            "5359/5359 [==============================] - 2s 310us/step - loss: 0.3296 - acc: 0.8614 - val_loss: 0.3558 - val_acc: 0.8584\n",
            "Epoch 86/100\n",
            "5359/5359 [==============================] - 2s 322us/step - loss: 0.3292 - acc: 0.8619 - val_loss: 0.3564 - val_acc: 0.8557\n",
            "Epoch 87/100\n",
            "5359/5359 [==============================] - 2s 320us/step - loss: 0.3298 - acc: 0.8591 - val_loss: 0.3558 - val_acc: 0.8573\n",
            "Epoch 88/100\n",
            "5359/5359 [==============================] - 2s 293us/step - loss: 0.3297 - acc: 0.8614 - val_loss: 0.3554 - val_acc: 0.8576\n",
            "Epoch 89/100\n",
            "5359/5359 [==============================] - 2s 292us/step - loss: 0.3297 - acc: 0.8604 - val_loss: 0.3570 - val_acc: 0.8573\n",
            "Epoch 90/100\n",
            "5359/5359 [==============================] - 2s 294us/step - loss: 0.3302 - acc: 0.8591 - val_loss: 0.3554 - val_acc: 0.8584\n",
            "Epoch 91/100\n",
            "5359/5359 [==============================] - 2s 288us/step - loss: 0.3295 - acc: 0.8634 - val_loss: 0.3568 - val_acc: 0.8569\n",
            "Epoch 92/100\n",
            "5359/5359 [==============================] - 2s 297us/step - loss: 0.3295 - acc: 0.8610 - val_loss: 0.3556 - val_acc: 0.8591\n",
            "Epoch 93/100\n",
            "5359/5359 [==============================] - 2s 285us/step - loss: 0.3293 - acc: 0.8608 - val_loss: 0.3558 - val_acc: 0.8595\n",
            "Epoch 94/100\n",
            "5359/5359 [==============================] - 2s 289us/step - loss: 0.3296 - acc: 0.8610 - val_loss: 0.3568 - val_acc: 0.8580\n",
            "Epoch 95/100\n",
            "5359/5359 [==============================] - 2s 291us/step - loss: 0.3294 - acc: 0.8612 - val_loss: 0.3572 - val_acc: 0.8573\n",
            "Epoch 96/100\n",
            "5359/5359 [==============================] - 2s 290us/step - loss: 0.3289 - acc: 0.8614 - val_loss: 0.3565 - val_acc: 0.8565\n",
            "Epoch 97/100\n",
            "5359/5359 [==============================] - 2s 289us/step - loss: 0.3295 - acc: 0.8623 - val_loss: 0.3556 - val_acc: 0.8595\n",
            "Epoch 98/100\n",
            "5359/5359 [==============================] - 2s 292us/step - loss: 0.3291 - acc: 0.8623 - val_loss: 0.3571 - val_acc: 0.8573\n",
            "Epoch 99/100\n",
            "5359/5359 [==============================] - 2s 295us/step - loss: 0.3294 - acc: 0.8614 - val_loss: 0.3560 - val_acc: 0.8569\n",
            "Epoch 100/100\n",
            "5359/5359 [==============================] - 2s 287us/step - loss: 0.3294 - acc: 0.8614 - val_loss: 0.3565 - val_acc: 0.8584\n",
            "dict_keys(['val_loss', 'val_acc', 'loss', 'acc'])\n"
          ],
          "name": "stdout"
        },
        {
          "output_type": "display_data",
          "data": {
            "image/png": "[encoded data removed]",
            "text/plain": [
              "<Figure size 432x288 with 1 Axes>"
            ]
          },
          "metadata": {
            "tags": [],
            "needs_background": "light"
          }
        },
        {
          "output_type": "display_data",
          "data": {
            "image/png": "[encoded data removed]",
            "text/plain": [
              "<Figure size 432x288 with 1 Axes>"
            ]
          },
          "metadata": {
            "tags": [],
            "needs_background": "light"
          }
        }
      ]
    },
    {
      "cell_type": "code",
      "metadata": {
        "id": "67EatDXyg6_8",
        "colab_type": "code",
        "colab": {
          "base_uri": "https://localhost:8080/",
          "height": 51
        },
        "outputId": "5b6f6346-cfd9-4658-b0bb-22db61060ce3"
      },
      "source": [
        "cm"
      ],
      "execution_count": null,
      "outputs": [
        {
          "output_type": "execute_result",
          "data": {
            "text/plain": [
              "array([[1508,   87],\n",
              "       [ 198,  207]])"
            ]
          },
          "metadata": {
            "tags": []
          },
          "execution_count": 9
        }
      ]
    },
    {
      "cell_type": "code",
      "metadata": {
        "id": "UNPKw8mUjO2E",
        "colab_type": "code",
        "colab": {
          "base_uri": "https://localhost:8080/",
          "height": 34
        },
        "outputId": "5ecfc4ff-507b-4711-9f17-d936971ef4eb"
      },
      "source": [
        "score"
      ],
      "execution_count": null,
      "outputs": [
        {
          "output_type": "execute_result",
          "data": {
            "text/plain": [
              "0.8575"
            ]
          },
          "metadata": {
            "tags": []
          },
          "execution_count": 10
        }
      ]
    },
    {
      "cell_type": "code",
      "metadata": {
        "id": "erlf6oBojPzx",
        "colab_type": "code",
        "colab": {}
      },
      "source": [
        ""
      ],
      "execution_count": null,
      "outputs": []
    }
  ]
}